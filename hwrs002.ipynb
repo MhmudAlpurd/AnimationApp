{
  "nbformat": 4,
  "nbformat_minor": 0,
  "metadata": {
    "colab": {
      "name": "hwrs002.ipynb",
      "provenance": [],
      "collapsed_sections": [],
      "authorship_tag": "ABX9TyN8mZRxxnMmwVhrVf/h5WkX",
      "include_colab_link": true
    },
    "kernelspec": {
      "display_name": "Python 3",
      "name": "python3"
    }
  },
  "cells": [
    {
      "cell_type": "markdown",
      "metadata": {
        "id": "view-in-github",
        "colab_type": "text"
      },
      "source": [
        "<a href=\"https://colab.research.google.com/github/MhmudAlpurd/AnimationApp/blob/master/hwrs002.ipynb\" target=\"_parent\"><img src=\"https://colab.research.google.com/assets/colab-badge.svg\" alt=\"Open In Colab\"/></a>"
      ]
    },
    {
      "cell_type": "code",
      "metadata": {
        "colab": {
          "base_uri": "https://localhost:8080/"
        },
        "id": "eBjCwuk7Ckhj",
        "outputId": "e9007f9d-eb9d-49bc-ca71-141e68676124"
      },
      "source": [
        "from google.colab import drive\n",
        "drive.mount('/content/drive')"
      ],
      "execution_count": null,
      "outputs": [
        {
          "output_type": "stream",
          "text": [
            "Drive already mounted at /content/drive; to attempt to forcibly remount, call drive.mount(\"/content/drive\", force_remount=True).\n"
          ],
          "name": "stdout"
        }
      ]
    },
    {
      "cell_type": "code",
      "metadata": {
        "colab": {
          "base_uri": "https://localhost:8080/"
        },
        "id": "tZ7KbjcJC2UK",
        "outputId": "4439482d-4781-4ada-b416-bcf66d0508cf"
      },
      "source": [
        "cd /content/drive/My Drive/"
      ],
      "execution_count": null,
      "outputs": [
        {
          "output_type": "stream",
          "text": [
            "/content/drive/My Drive\n"
          ],
          "name": "stdout"
        }
      ]
    },
    {
      "cell_type": "code",
      "metadata": {
        "id": "ssKnWPrsCVg4"
      },
      "source": [
        "import os, cv2\n",
        "import matplotlib.pyplot as plt\n",
        "import matplotlib.image as mpimg\n",
        "import numpy as np\n",
        "import random as rnd\n",
        "from tqdm import tqdm\n",
        "import pickle as pkl\n",
        "import PIL\n",
        "\n"
      ],
      "execution_count": null,
      "outputs": []
    },
    {
      "cell_type": "markdown",
      "metadata": {
        "id": "S3TD6Yt2FW-K"
      },
      "source": [
        "**#path creation**\n"
      ]
    },
    {
      "cell_type": "code",
      "metadata": {
        "id": "13F67kcgC915"
      },
      "source": [
        "DIRECTORY = 'Hampalai/HWRS_0_0_2/'\n",
        "CATEGORIES = ['plastics', 'metal' , 'paper' , 'glass']\n",
        "IMAGE_SIZE = 150"
      ],
      "execution_count": null,
      "outputs": []
    },
    {
      "cell_type": "code",
      "metadata": {
        "colab": {
          "base_uri": "https://localhost:8080/"
        },
        "id": "GXv_MCkUD33Z",
        "outputId": "f6bd6624-812e-4c14-b8f3-d4fea80d3b25"
      },
      "source": [
        "img_tag_arr = []\n",
        "images = []\n",
        "tags = []\n",
        "\n",
        "for category in tqdm(CATEGORIES):\n",
        "    category_folder = os.path.join(DIRECTORY, category)\n",
        "    img_label = CATEGORIES.index(category)\n",
        "    for img in os.listdir(category_folder):\n",
        "        image_path = os.path.join(category_folder, img)\n",
        "        image = cv2.imread(image_path, cv2.IMREAD_COLOR)\n",
        "        img_loaded = cv2.resize(image, (IMAGE_SIZE,IMAGE_SIZE))\n",
        "        img_loaded_normal = img_loaded / np.max(img_loaded) #image normalization\n",
        "        img_loaded_normal.astype(np.float32)\n",
        "        images.append(np.array(img_loaded_normal))\n",
        "        tags.append(int(img_label))\n",
        "        img_tag_arr.append([np.array(img_loaded), int(img_label)])\n",
        "\n",
        "print()\n",
        "print('max_img_loaded', np.max(img_loaded))\n",
        "print('max_images', np.max(images))\n",
        "print('image_tags', len(img_tag_arr))\n",
        "print('image_arr', len(images))\n",
        "print('tags_arr', len(tags))"
      ],
      "execution_count": null,
      "outputs": [
        {
          "output_type": "stream",
          "text": [
            "100%|██████████| 4/4 [00:11<00:00,  2.85s/it]\n"
          ],
          "name": "stderr"
        },
        {
          "output_type": "stream",
          "text": [
            "\n",
            "max_img_loaded 255\n",
            "max_images 1.0\n",
            "image_tags 1987\n",
            "image_arr 1987\n",
            "tags_arr 1987\n"
          ],
          "name": "stdout"
        }
      ]
    },
    {
      "cell_type": "markdown",
      "metadata": {
        "id": "zaKUdeBuE9xx"
      },
      "source": [
        "**#split image and labels and convert lst to arr**"
      ]
    },
    {
      "cell_type": "code",
      "metadata": {
        "colab": {
          "base_uri": "https://localhost:8080/",
          "height": 1000
        },
        "id": "Xox8OWY9FAxh",
        "outputId": "0db67230-c679-440a-8090-e87a6edce7c2"
      },
      "source": [
        "X = []\n",
        "y = []\n",
        "\n",
        "for img_tensor, labels in img_tag_arr:\n",
        "    X.append(img_tensor) #X = image tensor\n",
        "    y.append(labels) #y = label list\n",
        "\n",
        "X = np.array(X)\n",
        "y = np.array(y)\n",
        "\n",
        "#pkl.dump(X, open('X.pkl', 'wb'))\n",
        "#pkl.dump(y, open('y.pkl', 'wb'))\n",
        "\n",
        "#X = pkl.load(open('X.pkl', 'rb'))\n",
        "#y = pkl.load(open('y.pkl', 'rb'))\n",
        "\n",
        "\n",
        "\n",
        "print(X.shape)\n",
        "print(y.shape)\n",
        "print(X[0])\n",
        "print(y[0])\n",
        "\n",
        "#show the image (plastics: 0, metal: 1, paper: 2, glass:3)\n",
        "plt.imshow(X[0])\n",
        "\n",
        "\n",
        "\n"
      ],
      "execution_count": null,
      "outputs": [
        {
          "output_type": "stream",
          "text": [
            "(1987, 150, 150, 3)\n",
            "(1987,)\n",
            "[[[0.76666667 0.81666667 0.85833333]\n",
            "  [0.78333333 0.82916667 0.87083333]\n",
            "  [0.77916667 0.82916667 0.87083333]\n",
            "  ...\n",
            "  [0.725      0.77916667 0.8125    ]\n",
            "  [0.725      0.77916667 0.8125    ]\n",
            "  [0.725      0.77916667 0.8125    ]]\n",
            "\n",
            " [[0.77083333 0.82083333 0.8625    ]\n",
            "  [0.77916667 0.82916667 0.87083333]\n",
            "  [0.77916667 0.82916667 0.87083333]\n",
            "  ...\n",
            "  [0.725      0.77916667 0.8125    ]\n",
            "  [0.725      0.77916667 0.8125    ]\n",
            "  [0.725      0.77916667 0.8125    ]]\n",
            "\n",
            " [[0.775      0.825      0.86666667]\n",
            "  [0.775      0.825      0.86666667]\n",
            "  [0.77916667 0.82916667 0.87083333]\n",
            "  ...\n",
            "  [0.73333333 0.77916667 0.8125    ]\n",
            "  [0.73333333 0.77916667 0.8125    ]\n",
            "  [0.73333333 0.77916667 0.8125    ]]\n",
            "\n",
            " ...\n",
            "\n",
            " [[0.7        0.7625     0.775     ]\n",
            "  [0.7125     0.775      0.7875    ]\n",
            "  [0.70833333 0.77083333 0.78333333]\n",
            "  ...\n",
            "  [0.65       0.70416667 0.7375    ]\n",
            "  [0.65       0.70416667 0.7375    ]\n",
            "  [0.64166667 0.69583333 0.72916667]]\n",
            "\n",
            " [[0.7        0.7625     0.775     ]\n",
            "  [0.70833333 0.77083333 0.78333333]\n",
            "  [0.70833333 0.77083333 0.78333333]\n",
            "  ...\n",
            "  [0.65       0.70416667 0.7375    ]\n",
            "  [0.65       0.70416667 0.7375    ]\n",
            "  [0.64166667 0.69583333 0.72916667]]\n",
            "\n",
            " [[0.7        0.7625     0.775     ]\n",
            "  [0.7        0.7625     0.775     ]\n",
            "  [0.70833333 0.77083333 0.78333333]\n",
            "  ...\n",
            "  [0.65       0.70416667 0.7375    ]\n",
            "  [0.65       0.70416667 0.7375    ]\n",
            "  [0.64166667 0.69583333 0.72916667]]]\n",
            "0\n"
          ],
          "name": "stdout"
        },
        {
          "output_type": "execute_result",
          "data": {
            "text/plain": [
              "<matplotlib.image.AxesImage at 0x7f8013ee1ef0>"
            ]
          },
          "metadata": {
            "tags": []
          },
          "execution_count": 58
        },
        {
          "output_type": "display_data",
          "data": {
            "image/png": "[encoded data removed]",
            "text/plain": [
              "<Figure size 432x288 with 1 Axes>"
            ]
          },
          "metadata": {
            "tags": [],
            "needs_background": "light"
          }
        }
      ]
    },
    {
      "cell_type": "code",
      "metadata": {
        "colab": {
          "base_uri": "https://localhost:8080/"
        },
        "id": "LVjKreTOm-hF",
        "outputId": "c711732f-e6fa-4735-8307-3cbb49f10c55"
      },
      "source": [
        "from sklearn.model_selection import  train_test_split\n",
        "from tensorflow.keras.utils import to_categorical\n",
        "\n",
        "img_train, img_test, tag_train, tag_test = train_test_split(X, y, test_size = 0.2, random_state = 42)\n",
        "print('img_train:', len(img_train), type(img_train[0]), '| img_test:', len(img_test), '| lbl_train:', len(lbl_train), type(lbl_train[0]) , '| lbl_test:', len(lbl_test))\n",
        "\n",
        "print(img_train.shape)\n",
        "print(tag_train.shape)\n",
        "print(img_test.shape)\n",
        "print(tag_test.shape)"
      ],
      "execution_count": null,
      "outputs": [
        {
          "output_type": "stream",
          "text": [
            "img_train: 1589 <class 'numpy.ndarray'> | img_test: 398 | lbl_train: 1589 <class 'numpy.ndarray'> | lbl_test: 398\n"
          ],
          "name": "stdout"
        }
      ]
    },
    {
      "cell_type": "markdown",
      "metadata": {
        "id": "PHvdFEKOGRVB"
      },
      "source": [
        "**#ImageDataGenerator**"
      ]
    },
    {
      "cell_type": "code",
      "metadata": {
        "id": "FJPmcTF-FE5Z"
      },
      "source": [
        "import tensorflow as tf\n",
        "from tensorflow.keras import layers\n",
        "from tensorflow.keras.models import Sequential\n",
        "from keras.models import Model\n",
        "from keras.layers import Conv2D, MaxPooling2D, Flatten, Dense, Dropout, Input\n",
        "from keras.applications.vgg16 import VGG16, preprocess_input\n",
        "from keras.optimizers import SGD\n",
        "from keras.preprocessing.image import ImageDataGenerator\n",
        "\n",
        "datagen = tf.keras.preprocessing.image.ImageDataGenerator(\n",
        "    featurewise_center=True, samplewise_center=True,\n",
        "    featurewise_std_normalization=True, samplewise_std_normalization=True,\n",
        "    rotation_range=20, width_shift_range=0.2,\n",
        "    height_shift_range=0.2, shear_range=0.1, zoom_range=0.2,\n",
        "    channel_shift_range=0.2, fill_mode='nearest', cval=0.1, horizontal_flip=True,\n",
        "    vertical_flip=True , rescale=True\n",
        "\n",
        ")\n",
        "\n",
        "datagen.fit(img_train)\n"
      ],
      "execution_count": null,
      "outputs": []
    },
    {
      "cell_type": "markdown",
      "metadata": {
        "id": "H92e8wZ2HXNb"
      },
      "source": [
        "**#model creation**"
      ]
    },
    {
      "cell_type": "code",
      "metadata": {
        "colab": {
          "base_uri": "https://localhost:8080/",
          "height": 1000
        },
        "id": "vxcd_s8EzwZM",
        "outputId": "862b4830-0d39-47f6-e2df-ccd774d8eeb6"
      },
      "source": [
        "import tensorflow as tf\n",
        "from keras.models import Model\n",
        "from keras.layers import Conv2D, MaxPooling2D, Flatten, Dense, Dropout, Input\n",
        "from keras.applications.vgg16 import VGG16, preprocess_input\n",
        "from keras.optimizers import SGD, Adam\n",
        "from keras.losses import categorical_crossentropy\n",
        "\n",
        "\n",
        "\n",
        "\n",
        "num_classes = 4\n",
        "\n",
        "myModel = Sequential([\n",
        "  layers.experimental.preprocessing.Rescaling(1./255, input_shape=(IMAGE_SIZE, IMAGE_SIZE, 3)),\n",
        "  layers.Conv2D(16, 3, padding='same', activation='relu'),\n",
        "  layers.MaxPooling2D(),\n",
        "  layers.Conv2D(32, 3, padding='same', activation='relu'),\n",
        "  layers.MaxPooling2D(),\n",
        "  layers.Conv2D(64, 3, padding='same', activation='relu'),\n",
        "  layers.MaxPooling2D(),\n",
        "  layers.Flatten(),\n",
        "  layers.Dense(128, activation='relu'),\n",
        "  layers.Dense(num_classes)\n",
        "])\n",
        "myModel.summary()\n",
        "\n",
        "myModel.compile(loss = 'binary_crossentropy', optimizer= optimizer_2, metrics=['accuracy'])\n",
        "myModel.fit(x=datagen.flow(img_train, tag_train, batch_size=32),validation_data=(img_test, tag_test),epochs=100, verbose=1)\n",
        "\n",
        "\n",
        "\n",
        "\n",
        "\n",
        "\n"
      ],
      "execution_count": null,
      "outputs": [
        {
          "output_type": "stream",
          "text": [
            "Model: \"sequential_5\"\n",
            "_________________________________________________________________\n",
            "Layer (type)                 Output Shape              Param #   \n",
            "=================================================================\n",
            "rescaling_5 (Rescaling)      (None, 150, 150, 3)       0         \n",
            "_________________________________________________________________\n",
            "conv2d_15 (Conv2D)           (None, 150, 150, 16)      448       \n",
            "_________________________________________________________________\n",
            "max_pooling2d_15 (MaxPooling (None, 75, 75, 16)        0         \n",
            "_________________________________________________________________\n",
            "conv2d_16 (Conv2D)           (None, 75, 75, 32)        4640      \n",
            "_________________________________________________________________\n",
            "max_pooling2d_16 (MaxPooling (None, 37, 37, 32)        0         \n",
            "_________________________________________________________________\n",
            "conv2d_17 (Conv2D)           (None, 37, 37, 64)        18496     \n",
            "_________________________________________________________________\n",
            "max_pooling2d_17 (MaxPooling (None, 18, 18, 64)        0         \n",
            "_________________________________________________________________\n",
            "flatten_5 (Flatten)          (None, 20736)             0         \n",
            "_________________________________________________________________\n",
            "dense_10 (Dense)             (None, 128)               2654336   \n",
            "_________________________________________________________________\n",
            "dense_11 (Dense)             (None, 4)                 516       \n",
            "=================================================================\n",
            "Total params: 2,678,436\n",
            "Trainable params: 2,678,436\n",
            "Non-trainable params: 0\n",
            "_________________________________________________________________\n",
            "Epoch 1/100\n",
            "50/50 - 41s - loss: -7.7010e+00 - accuracy: 0.2159 - val_loss: -8.2377e+00 - val_accuracy: 0.1935\n",
            "Epoch 2/100\n",
            "50/50 - 41s - loss: -8.6275e+00 - accuracy: 0.2096 - val_loss: -8.2377e+00 - val_accuracy: 0.1935\n",
            "Epoch 3/100\n",
            "50/50 - 41s - loss: -8.6275e+00 - accuracy: 0.2096 - val_loss: -8.2377e+00 - val_accuracy: 0.1935\n",
            "Epoch 4/100\n",
            "50/50 - 41s - loss: -8.6275e+00 - accuracy: 0.2096 - val_loss: -8.2377e+00 - val_accuracy: 0.1935\n",
            "Epoch 5/100\n",
            "50/50 - 41s - loss: -8.6275e+00 - accuracy: 0.2096 - val_loss: -8.2377e+00 - val_accuracy: 0.1935\n",
            "Epoch 6/100\n",
            "50/50 - 42s - loss: -8.6275e+00 - accuracy: 0.2096 - val_loss: -8.2377e+00 - val_accuracy: 0.1935\n",
            "Epoch 7/100\n",
            "50/50 - 41s - loss: -8.6275e+00 - accuracy: 0.2096 - val_loss: -8.2377e+00 - val_accuracy: 0.1935\n",
            "Epoch 8/100\n",
            "50/50 - 42s - loss: -8.6275e+00 - accuracy: 0.2096 - val_loss: -8.2377e+00 - val_accuracy: 0.1935\n",
            "Epoch 9/100\n",
            "50/50 - 41s - loss: -8.6275e+00 - accuracy: 0.2096 - val_loss: -8.2377e+00 - val_accuracy: 0.1935\n",
            "Epoch 10/100\n",
            "50/50 - 41s - loss: -8.6275e+00 - accuracy: 0.2096 - val_loss: -8.2377e+00 - val_accuracy: 0.1935\n",
            "Epoch 11/100\n",
            "50/50 - 41s - loss: -8.6275e+00 - accuracy: 0.2096 - val_loss: -8.2377e+00 - val_accuracy: 0.1935\n",
            "Epoch 12/100\n",
            "50/50 - 41s - loss: -8.6275e+00 - accuracy: 0.2096 - val_loss: -8.2377e+00 - val_accuracy: 0.1935\n",
            "Epoch 13/100\n",
            "50/50 - 41s - loss: -8.6275e+00 - accuracy: 0.2096 - val_loss: -8.2377e+00 - val_accuracy: 0.1935\n",
            "Epoch 14/100\n",
            "50/50 - 42s - loss: -8.6275e+00 - accuracy: 0.2096 - val_loss: -8.2377e+00 - val_accuracy: 0.1935\n",
            "Epoch 15/100\n",
            "50/50 - 41s - loss: -8.6275e+00 - accuracy: 0.2096 - val_loss: -8.2377e+00 - val_accuracy: 0.1935\n",
            "Epoch 16/100\n",
            "50/50 - 41s - loss: -8.6275e+00 - accuracy: 0.2096 - val_loss: -8.2377e+00 - val_accuracy: 0.1935\n",
            "Epoch 17/100\n",
            "50/50 - 41s - loss: -8.6275e+00 - accuracy: 0.2096 - val_loss: -8.2377e+00 - val_accuracy: 0.1935\n",
            "Epoch 18/100\n",
            "50/50 - 41s - loss: -8.6275e+00 - accuracy: 0.2096 - val_loss: -8.2377e+00 - val_accuracy: 0.1935\n",
            "Epoch 19/100\n",
            "50/50 - 41s - loss: -8.6275e+00 - accuracy: 0.2096 - val_loss: -8.2377e+00 - val_accuracy: 0.1935\n",
            "Epoch 20/100\n",
            "50/50 - 41s - loss: -8.6275e+00 - accuracy: 0.2096 - val_loss: -8.2377e+00 - val_accuracy: 0.1935\n",
            "Epoch 21/100\n",
            "50/50 - 41s - loss: -8.6275e+00 - accuracy: 0.2096 - val_loss: -8.2377e+00 - val_accuracy: 0.1935\n",
            "Epoch 22/100\n",
            "50/50 - 41s - loss: -8.6275e+00 - accuracy: 0.2096 - val_loss: -8.2377e+00 - val_accuracy: 0.1935\n",
            "Epoch 23/100\n",
            "50/50 - 42s - loss: -8.6275e+00 - accuracy: 0.2096 - val_loss: -8.2377e+00 - val_accuracy: 0.1935\n",
            "Epoch 24/100\n",
            "50/50 - 41s - loss: -8.6275e+00 - accuracy: 0.2096 - val_loss: -8.2377e+00 - val_accuracy: 0.1935\n",
            "Epoch 25/100\n",
            "50/50 - 41s - loss: -8.6275e+00 - accuracy: 0.2096 - val_loss: -8.2377e+00 - val_accuracy: 0.1935\n",
            "Epoch 26/100\n",
            "50/50 - 41s - loss: -8.6275e+00 - accuracy: 0.2096 - val_loss: -8.2377e+00 - val_accuracy: 0.1935\n",
            "Epoch 27/100\n",
            "50/50 - 41s - loss: -8.6275e+00 - accuracy: 0.2096 - val_loss: -8.2377e+00 - val_accuracy: 0.1935\n",
            "Epoch 28/100\n",
            "50/50 - 41s - loss: -8.6275e+00 - accuracy: 0.2096 - val_loss: -8.2377e+00 - val_accuracy: 0.1935\n",
            "Epoch 29/100\n",
            "50/50 - 41s - loss: -8.6275e+00 - accuracy: 0.2096 - val_loss: -8.2377e+00 - val_accuracy: 0.1935\n",
            "Epoch 30/100\n",
            "50/50 - 41s - loss: -8.6275e+00 - accuracy: 0.2096 - val_loss: -8.2377e+00 - val_accuracy: 0.1935\n",
            "Epoch 31/100\n",
            "50/50 - 41s - loss: -8.6275e+00 - accuracy: 0.2096 - val_loss: -8.2377e+00 - val_accuracy: 0.1935\n",
            "Epoch 32/100\n",
            "50/50 - 41s - loss: -8.6275e+00 - accuracy: 0.2096 - val_loss: -8.2377e+00 - val_accuracy: 0.1935\n",
            "Epoch 33/100\n",
            "50/50 - 41s - loss: -8.6275e+00 - accuracy: 0.2096 - val_loss: -8.2377e+00 - val_accuracy: 0.1935\n",
            "Epoch 34/100\n",
            "50/50 - 41s - loss: -8.6275e+00 - accuracy: 0.2096 - val_loss: -8.2377e+00 - val_accuracy: 0.1935\n",
            "Epoch 35/100\n",
            "50/50 - 41s - loss: -8.6275e+00 - accuracy: 0.2096 - val_loss: -8.2377e+00 - val_accuracy: 0.1935\n",
            "Epoch 36/100\n",
            "50/50 - 41s - loss: -8.6275e+00 - accuracy: 0.2096 - val_loss: -8.2377e+00 - val_accuracy: 0.1935\n",
            "Epoch 37/100\n",
            "50/50 - 42s - loss: -8.6275e+00 - accuracy: 0.2096 - val_loss: -8.2377e+00 - val_accuracy: 0.1935\n",
            "Epoch 38/100\n",
            "50/50 - 41s - loss: -8.6275e+00 - accuracy: 0.2096 - val_loss: -8.2377e+00 - val_accuracy: 0.1935\n",
            "Epoch 39/100\n",
            "50/50 - 41s - loss: -8.6275e+00 - accuracy: 0.2096 - val_loss: -8.2377e+00 - val_accuracy: 0.1935\n",
            "Epoch 40/100\n",
            "50/50 - 41s - loss: -8.6275e+00 - accuracy: 0.2096 - val_loss: -8.2377e+00 - val_accuracy: 0.1935\n",
            "Epoch 41/100\n",
            "50/50 - 41s - loss: -8.6275e+00 - accuracy: 0.2096 - val_loss: -8.2377e+00 - val_accuracy: 0.1935\n",
            "Epoch 42/100\n",
            "50/50 - 41s - loss: -8.6275e+00 - accuracy: 0.2096 - val_loss: -8.2377e+00 - val_accuracy: 0.1935\n",
            "Epoch 43/100\n",
            "50/50 - 41s - loss: -8.6275e+00 - accuracy: 0.2096 - val_loss: -8.2377e+00 - val_accuracy: 0.1935\n",
            "Epoch 44/100\n",
            "50/50 - 41s - loss: -8.6275e+00 - accuracy: 0.2096 - val_loss: -8.2377e+00 - val_accuracy: 0.1935\n",
            "Epoch 45/100\n",
            "50/50 - 41s - loss: -8.6275e+00 - accuracy: 0.2096 - val_loss: -8.2377e+00 - val_accuracy: 0.1935\n",
            "Epoch 46/100\n",
            "50/50 - 41s - loss: -8.6275e+00 - accuracy: 0.2096 - val_loss: -8.2377e+00 - val_accuracy: 0.1935\n",
            "Epoch 47/100\n",
            "50/50 - 41s - loss: -8.6275e+00 - accuracy: 0.2096 - val_loss: -8.2377e+00 - val_accuracy: 0.1935\n",
            "Epoch 48/100\n",
            "50/50 - 41s - loss: -8.6275e+00 - accuracy: 0.2096 - val_loss: -8.2377e+00 - val_accuracy: 0.1935\n",
            "Epoch 49/100\n",
            "50/50 - 41s - loss: -8.6275e+00 - accuracy: 0.2096 - val_loss: -8.2377e+00 - val_accuracy: 0.1935\n",
            "Epoch 50/100\n",
            "50/50 - 41s - loss: -8.6275e+00 - accuracy: 0.2096 - val_loss: -8.2377e+00 - val_accuracy: 0.1935\n",
            "Epoch 51/100\n",
            "50/50 - 41s - loss: -8.6275e+00 - accuracy: 0.2096 - val_loss: -8.2377e+00 - val_accuracy: 0.1935\n",
            "Epoch 52/100\n",
            "50/50 - 42s - loss: -8.6275e+00 - accuracy: 0.2096 - val_loss: -8.2377e+00 - val_accuracy: 0.1935\n",
            "Epoch 53/100\n",
            "50/50 - 41s - loss: -8.6275e+00 - accuracy: 0.2096 - val_loss: -8.2377e+00 - val_accuracy: 0.1935\n",
            "Epoch 54/100\n",
            "50/50 - 41s - loss: -8.6275e+00 - accuracy: 0.2096 - val_loss: -8.2377e+00 - val_accuracy: 0.1935\n",
            "Epoch 55/100\n",
            "50/50 - 41s - loss: -8.6275e+00 - accuracy: 0.2096 - val_loss: -8.2377e+00 - val_accuracy: 0.1935\n",
            "Epoch 56/100\n",
            "50/50 - 41s - loss: -8.6275e+00 - accuracy: 0.2096 - val_loss: -8.2377e+00 - val_accuracy: 0.1935\n",
            "Epoch 57/100\n",
            "50/50 - 41s - loss: -8.6275e+00 - accuracy: 0.2096 - val_loss: -8.2377e+00 - val_accuracy: 0.1935\n",
            "Epoch 58/100\n",
            "50/50 - 41s - loss: -8.6275e+00 - accuracy: 0.2096 - val_loss: -8.2377e+00 - val_accuracy: 0.1935\n",
            "Epoch 59/100\n",
            "50/50 - 41s - loss: -8.6275e+00 - accuracy: 0.2096 - val_loss: -8.2377e+00 - val_accuracy: 0.1935\n",
            "Epoch 60/100\n",
            "50/50 - 41s - loss: -8.6275e+00 - accuracy: 0.2096 - val_loss: -8.2377e+00 - val_accuracy: 0.1935\n",
            "Epoch 61/100\n",
            "50/50 - 41s - loss: -8.6275e+00 - accuracy: 0.2096 - val_loss: -8.2377e+00 - val_accuracy: 0.1935\n",
            "Epoch 62/100\n",
            "50/50 - 41s - loss: -8.6275e+00 - accuracy: 0.2096 - val_loss: -8.2377e+00 - val_accuracy: 0.1935\n",
            "Epoch 63/100\n",
            "50/50 - 41s - loss: -8.6275e+00 - accuracy: 0.2096 - val_loss: -8.2377e+00 - val_accuracy: 0.1935\n",
            "Epoch 64/100\n",
            "50/50 - 41s - loss: -8.6275e+00 - accuracy: 0.2096 - val_loss: -8.2377e+00 - val_accuracy: 0.1935\n",
            "Epoch 65/100\n",
            "50/50 - 41s - loss: -8.6275e+00 - accuracy: 0.2096 - val_loss: -8.2377e+00 - val_accuracy: 0.1935\n",
            "Epoch 66/100\n",
            "50/50 - 43s - loss: -8.6275e+00 - accuracy: 0.2096 - val_loss: -8.2377e+00 - val_accuracy: 0.1935\n",
            "Epoch 67/100\n",
            "50/50 - 41s - loss: -8.6275e+00 - accuracy: 0.2096 - val_loss: -8.2377e+00 - val_accuracy: 0.1935\n",
            "Epoch 68/100\n",
            "50/50 - 41s - loss: -8.6275e+00 - accuracy: 0.2096 - val_loss: -8.2377e+00 - val_accuracy: 0.1935\n",
            "Epoch 69/100\n",
            "50/50 - 41s - loss: -8.6275e+00 - accuracy: 0.2096 - val_loss: -8.2377e+00 - val_accuracy: 0.1935\n",
            "Epoch 70/100\n",
            "50/50 - 41s - loss: -8.6275e+00 - accuracy: 0.2096 - val_loss: -8.2377e+00 - val_accuracy: 0.1935\n",
            "Epoch 71/100\n",
            "50/50 - 41s - loss: -8.6275e+00 - accuracy: 0.2096 - val_loss: -8.2377e+00 - val_accuracy: 0.1935\n",
            "Epoch 72/100\n",
            "50/50 - 41s - loss: -8.6275e+00 - accuracy: 0.2096 - val_loss: -8.2377e+00 - val_accuracy: 0.1935\n",
            "Epoch 73/100\n",
            "50/50 - 41s - loss: -8.6275e+00 - accuracy: 0.2096 - val_loss: -8.2377e+00 - val_accuracy: 0.1935\n",
            "Epoch 74/100\n",
            "50/50 - 41s - loss: -8.6275e+00 - accuracy: 0.2096 - val_loss: -8.2377e+00 - val_accuracy: 0.1935\n",
            "Epoch 75/100\n",
            "50/50 - 41s - loss: -8.6275e+00 - accuracy: 0.2096 - val_loss: -8.2377e+00 - val_accuracy: 0.1935\n",
            "Epoch 76/100\n",
            "50/50 - 41s - loss: -8.6275e+00 - accuracy: 0.2096 - val_loss: -8.2377e+00 - val_accuracy: 0.1935\n",
            "Epoch 77/100\n",
            "50/50 - 41s - loss: -8.6275e+00 - accuracy: 0.2096 - val_loss: -8.2377e+00 - val_accuracy: 0.1935\n",
            "Epoch 78/100\n",
            "50/50 - 41s - loss: -8.6275e+00 - accuracy: 0.2096 - val_loss: -8.2377e+00 - val_accuracy: 0.1935\n",
            "Epoch 79/100\n"
          ],
          "name": "stdout"
        },
        {
          "output_type": "error",
          "ename": "KeyboardInterrupt",
          "evalue": "ignored",
          "traceback": [
            "\u001b[0;31m---------------------------------------------------------------------------\u001b[0m",
            "\u001b[0;31mKeyboardInterrupt\u001b[0m                         Traceback (most recent call last)",
            "\u001b[0;32m<ipython-input-56-17934ce1c245>\u001b[0m in \u001b[0;36m<module>\u001b[0;34m()\u001b[0m\n\u001b[1;32m     26\u001b[0m \u001b[0;34m\u001b[0m\u001b[0m\n\u001b[1;32m     27\u001b[0m \u001b[0mmyModel\u001b[0m\u001b[0;34m.\u001b[0m\u001b[0mcompile\u001b[0m\u001b[0;34m(\u001b[0m\u001b[0mloss\u001b[0m \u001b[0;34m=\u001b[0m \u001b[0;34m'binary_crossentropy'\u001b[0m\u001b[0;34m,\u001b[0m \u001b[0moptimizer\u001b[0m\u001b[0;34m=\u001b[0m \u001b[0moptimizer_2\u001b[0m\u001b[0;34m,\u001b[0m \u001b[0mmetrics\u001b[0m\u001b[0;34m=\u001b[0m\u001b[0;34m[\u001b[0m\u001b[0;34m'accuracy'\u001b[0m\u001b[0;34m]\u001b[0m\u001b[0;34m)\u001b[0m\u001b[0;34m\u001b[0m\u001b[0;34m\u001b[0m\u001b[0m\n\u001b[0;32m---> 28\u001b[0;31m \u001b[0mmyModel\u001b[0m\u001b[0;34m.\u001b[0m\u001b[0mfit\u001b[0m\u001b[0;34m(\u001b[0m\u001b[0mx\u001b[0m\u001b[0;34m=\u001b[0m\u001b[0mdatagen\u001b[0m\u001b[0;34m.\u001b[0m\u001b[0mflow\u001b[0m\u001b[0;34m(\u001b[0m\u001b[0mimg_train\u001b[0m\u001b[0;34m,\u001b[0m \u001b[0mtag_train\u001b[0m\u001b[0;34m,\u001b[0m \u001b[0mbatch_size\u001b[0m\u001b[0;34m=\u001b[0m\u001b[0;36m32\u001b[0m\u001b[0;34m)\u001b[0m\u001b[0;34m,\u001b[0m\u001b[0mvalidation_data\u001b[0m\u001b[0;34m=\u001b[0m\u001b[0;34m(\u001b[0m\u001b[0mimg_test\u001b[0m\u001b[0;34m,\u001b[0m \u001b[0mtag_test\u001b[0m\u001b[0;34m)\u001b[0m\u001b[0;34m,\u001b[0m\u001b[0mepochs\u001b[0m\u001b[0;34m=\u001b[0m\u001b[0;36m100\u001b[0m\u001b[0;34m,\u001b[0m \u001b[0mverbose\u001b[0m\u001b[0;34m=\u001b[0m\u001b[0;36m2\u001b[0m\u001b[0;34m)\u001b[0m\u001b[0;34m\u001b[0m\u001b[0;34m\u001b[0m\u001b[0m\n\u001b[0m\u001b[1;32m     29\u001b[0m \u001b[0;34m\u001b[0m\u001b[0m\n\u001b[1;32m     30\u001b[0m \u001b[0;34m\u001b[0m\u001b[0m\n",
            "\u001b[0;32m/usr/local/lib/python3.6/dist-packages/tensorflow/python/keras/engine/training.py\u001b[0m in \u001b[0;36m_method_wrapper\u001b[0;34m(self, *args, **kwargs)\u001b[0m\n\u001b[1;32m    106\u001b[0m   \u001b[0;32mdef\u001b[0m \u001b[0m_method_wrapper\u001b[0m\u001b[0;34m(\u001b[0m\u001b[0mself\u001b[0m\u001b[0;34m,\u001b[0m \u001b[0;34m*\u001b[0m\u001b[0margs\u001b[0m\u001b[0;34m,\u001b[0m \u001b[0;34m**\u001b[0m\u001b[0mkwargs\u001b[0m\u001b[0;34m)\u001b[0m\u001b[0;34m:\u001b[0m\u001b[0;34m\u001b[0m\u001b[0;34m\u001b[0m\u001b[0m\n\u001b[1;32m    107\u001b[0m     \u001b[0;32mif\u001b[0m \u001b[0;32mnot\u001b[0m \u001b[0mself\u001b[0m\u001b[0;34m.\u001b[0m\u001b[0m_in_multi_worker_mode\u001b[0m\u001b[0;34m(\u001b[0m\u001b[0;34m)\u001b[0m\u001b[0;34m:\u001b[0m  \u001b[0;31m# pylint: disable=protected-access\u001b[0m\u001b[0;34m\u001b[0m\u001b[0;34m\u001b[0m\u001b[0m\n\u001b[0;32m--> 108\u001b[0;31m       \u001b[0;32mreturn\u001b[0m \u001b[0mmethod\u001b[0m\u001b[0;34m(\u001b[0m\u001b[0mself\u001b[0m\u001b[0;34m,\u001b[0m \u001b[0;34m*\u001b[0m\u001b[0margs\u001b[0m\u001b[0;34m,\u001b[0m \u001b[0;34m**\u001b[0m\u001b[0mkwargs\u001b[0m\u001b[0;34m)\u001b[0m\u001b[0;34m\u001b[0m\u001b[0;34m\u001b[0m\u001b[0m\n\u001b[0m\u001b[1;32m    109\u001b[0m \u001b[0;34m\u001b[0m\u001b[0m\n\u001b[1;32m    110\u001b[0m     \u001b[0;31m# Running inside `run_distribute_coordinator` already.\u001b[0m\u001b[0;34m\u001b[0m\u001b[0;34m\u001b[0m\u001b[0;34m\u001b[0m\u001b[0m\n",
            "\u001b[0;32m/usr/local/lib/python3.6/dist-packages/tensorflow/python/keras/engine/training.py\u001b[0m in \u001b[0;36mfit\u001b[0;34m(self, x, y, batch_size, epochs, verbose, callbacks, validation_split, validation_data, shuffle, class_weight, sample_weight, initial_epoch, steps_per_epoch, validation_steps, validation_batch_size, validation_freq, max_queue_size, workers, use_multiprocessing)\u001b[0m\n\u001b[1;32m   1096\u001b[0m                 batch_size=batch_size):\n\u001b[1;32m   1097\u001b[0m               \u001b[0mcallbacks\u001b[0m\u001b[0;34m.\u001b[0m\u001b[0mon_train_batch_begin\u001b[0m\u001b[0;34m(\u001b[0m\u001b[0mstep\u001b[0m\u001b[0;34m)\u001b[0m\u001b[0;34m\u001b[0m\u001b[0;34m\u001b[0m\u001b[0m\n\u001b[0;32m-> 1098\u001b[0;31m               \u001b[0mtmp_logs\u001b[0m \u001b[0;34m=\u001b[0m \u001b[0mtrain_function\u001b[0m\u001b[0;34m(\u001b[0m\u001b[0miterator\u001b[0m\u001b[0;34m)\u001b[0m\u001b[0;34m\u001b[0m\u001b[0;34m\u001b[0m\u001b[0m\n\u001b[0m\u001b[1;32m   1099\u001b[0m               \u001b[0;32mif\u001b[0m \u001b[0mdata_handler\u001b[0m\u001b[0;34m.\u001b[0m\u001b[0mshould_sync\u001b[0m\u001b[0;34m:\u001b[0m\u001b[0;34m\u001b[0m\u001b[0;34m\u001b[0m\u001b[0m\n\u001b[1;32m   1100\u001b[0m                 \u001b[0mcontext\u001b[0m\u001b[0;34m.\u001b[0m\u001b[0masync_wait\u001b[0m\u001b[0;34m(\u001b[0m\u001b[0;34m)\u001b[0m\u001b[0;34m\u001b[0m\u001b[0;34m\u001b[0m\u001b[0m\n",
            "\u001b[0;32m/usr/local/lib/python3.6/dist-packages/tensorflow/python/eager/def_function.py\u001b[0m in \u001b[0;36m__call__\u001b[0;34m(self, *args, **kwds)\u001b[0m\n\u001b[1;32m    778\u001b[0m       \u001b[0;32melse\u001b[0m\u001b[0;34m:\u001b[0m\u001b[0;34m\u001b[0m\u001b[0;34m\u001b[0m\u001b[0m\n\u001b[1;32m    779\u001b[0m         \u001b[0mcompiler\u001b[0m \u001b[0;34m=\u001b[0m \u001b[0;34m\"nonXla\"\u001b[0m\u001b[0;34m\u001b[0m\u001b[0;34m\u001b[0m\u001b[0m\n\u001b[0;32m--> 780\u001b[0;31m         \u001b[0mresult\u001b[0m \u001b[0;34m=\u001b[0m \u001b[0mself\u001b[0m\u001b[0;34m.\u001b[0m\u001b[0m_call\u001b[0m\u001b[0;34m(\u001b[0m\u001b[0;34m*\u001b[0m\u001b[0margs\u001b[0m\u001b[0;34m,\u001b[0m \u001b[0;34m**\u001b[0m\u001b[0mkwds\u001b[0m\u001b[0;34m)\u001b[0m\u001b[0;34m\u001b[0m\u001b[0;34m\u001b[0m\u001b[0m\n\u001b[0m\u001b[1;32m    781\u001b[0m \u001b[0;34m\u001b[0m\u001b[0m\n\u001b[1;32m    782\u001b[0m       \u001b[0mnew_tracing_count\u001b[0m \u001b[0;34m=\u001b[0m \u001b[0mself\u001b[0m\u001b[0;34m.\u001b[0m\u001b[0m_get_tracing_count\u001b[0m\u001b[0;34m(\u001b[0m\u001b[0;34m)\u001b[0m\u001b[0;34m\u001b[0m\u001b[0;34m\u001b[0m\u001b[0m\n",
            "\u001b[0;32m/usr/local/lib/python3.6/dist-packages/tensorflow/python/eager/def_function.py\u001b[0m in \u001b[0;36m_call\u001b[0;34m(self, *args, **kwds)\u001b[0m\n\u001b[1;32m    805\u001b[0m       \u001b[0;31m# In this case we have created variables on the first call, so we run the\u001b[0m\u001b[0;34m\u001b[0m\u001b[0;34m\u001b[0m\u001b[0;34m\u001b[0m\u001b[0m\n\u001b[1;32m    806\u001b[0m       \u001b[0;31m# defunned version which is guaranteed to never create variables.\u001b[0m\u001b[0;34m\u001b[0m\u001b[0;34m\u001b[0m\u001b[0;34m\u001b[0m\u001b[0m\n\u001b[0;32m--> 807\u001b[0;31m       \u001b[0;32mreturn\u001b[0m \u001b[0mself\u001b[0m\u001b[0;34m.\u001b[0m\u001b[0m_stateless_fn\u001b[0m\u001b[0;34m(\u001b[0m\u001b[0;34m*\u001b[0m\u001b[0margs\u001b[0m\u001b[0;34m,\u001b[0m \u001b[0;34m**\u001b[0m\u001b[0mkwds\u001b[0m\u001b[0;34m)\u001b[0m  \u001b[0;31m# pylint: disable=not-callable\u001b[0m\u001b[0;34m\u001b[0m\u001b[0;34m\u001b[0m\u001b[0m\n\u001b[0m\u001b[1;32m    808\u001b[0m     \u001b[0;32melif\u001b[0m \u001b[0mself\u001b[0m\u001b[0;34m.\u001b[0m\u001b[0m_stateful_fn\u001b[0m \u001b[0;32mis\u001b[0m \u001b[0;32mnot\u001b[0m \u001b[0;32mNone\u001b[0m\u001b[0;34m:\u001b[0m\u001b[0;34m\u001b[0m\u001b[0;34m\u001b[0m\u001b[0m\n\u001b[1;32m    809\u001b[0m       \u001b[0;31m# Release the lock early so that multiple threads can perform the call\u001b[0m\u001b[0;34m\u001b[0m\u001b[0;34m\u001b[0m\u001b[0;34m\u001b[0m\u001b[0m\n",
            "\u001b[0;32m/usr/local/lib/python3.6/dist-packages/tensorflow/python/eager/function.py\u001b[0m in \u001b[0;36m__call__\u001b[0;34m(self, *args, **kwargs)\u001b[0m\n\u001b[1;32m   2827\u001b[0m     \u001b[0;32mwith\u001b[0m \u001b[0mself\u001b[0m\u001b[0;34m.\u001b[0m\u001b[0m_lock\u001b[0m\u001b[0;34m:\u001b[0m\u001b[0;34m\u001b[0m\u001b[0;34m\u001b[0m\u001b[0m\n\u001b[1;32m   2828\u001b[0m       \u001b[0mgraph_function\u001b[0m\u001b[0;34m,\u001b[0m \u001b[0margs\u001b[0m\u001b[0;34m,\u001b[0m \u001b[0mkwargs\u001b[0m \u001b[0;34m=\u001b[0m \u001b[0mself\u001b[0m\u001b[0;34m.\u001b[0m\u001b[0m_maybe_define_function\u001b[0m\u001b[0;34m(\u001b[0m\u001b[0margs\u001b[0m\u001b[0;34m,\u001b[0m \u001b[0mkwargs\u001b[0m\u001b[0;34m)\u001b[0m\u001b[0;34m\u001b[0m\u001b[0;34m\u001b[0m\u001b[0m\n\u001b[0;32m-> 2829\u001b[0;31m     \u001b[0;32mreturn\u001b[0m \u001b[0mgraph_function\u001b[0m\u001b[0;34m.\u001b[0m\u001b[0m_filtered_call\u001b[0m\u001b[0;34m(\u001b[0m\u001b[0margs\u001b[0m\u001b[0;34m,\u001b[0m \u001b[0mkwargs\u001b[0m\u001b[0;34m)\u001b[0m  \u001b[0;31m# pylint: disable=protected-access\u001b[0m\u001b[0;34m\u001b[0m\u001b[0;34m\u001b[0m\u001b[0m\n\u001b[0m\u001b[1;32m   2830\u001b[0m \u001b[0;34m\u001b[0m\u001b[0m\n\u001b[1;32m   2831\u001b[0m   \u001b[0;34m@\u001b[0m\u001b[0mproperty\u001b[0m\u001b[0;34m\u001b[0m\u001b[0;34m\u001b[0m\u001b[0m\n",
            "\u001b[0;32m/usr/local/lib/python3.6/dist-packages/tensorflow/python/eager/function.py\u001b[0m in \u001b[0;36m_filtered_call\u001b[0;34m(self, args, kwargs, cancellation_manager)\u001b[0m\n\u001b[1;32m   1846\u001b[0m                            resource_variable_ops.BaseResourceVariable))],\n\u001b[1;32m   1847\u001b[0m         \u001b[0mcaptured_inputs\u001b[0m\u001b[0;34m=\u001b[0m\u001b[0mself\u001b[0m\u001b[0;34m.\u001b[0m\u001b[0mcaptured_inputs\u001b[0m\u001b[0;34m,\u001b[0m\u001b[0;34m\u001b[0m\u001b[0;34m\u001b[0m\u001b[0m\n\u001b[0;32m-> 1848\u001b[0;31m         cancellation_manager=cancellation_manager)\n\u001b[0m\u001b[1;32m   1849\u001b[0m \u001b[0;34m\u001b[0m\u001b[0m\n\u001b[1;32m   1850\u001b[0m   \u001b[0;32mdef\u001b[0m \u001b[0m_call_flat\u001b[0m\u001b[0;34m(\u001b[0m\u001b[0mself\u001b[0m\u001b[0;34m,\u001b[0m \u001b[0margs\u001b[0m\u001b[0;34m,\u001b[0m \u001b[0mcaptured_inputs\u001b[0m\u001b[0;34m,\u001b[0m \u001b[0mcancellation_manager\u001b[0m\u001b[0;34m=\u001b[0m\u001b[0;32mNone\u001b[0m\u001b[0;34m)\u001b[0m\u001b[0;34m:\u001b[0m\u001b[0;34m\u001b[0m\u001b[0;34m\u001b[0m\u001b[0m\n",
            "\u001b[0;32m/usr/local/lib/python3.6/dist-packages/tensorflow/python/eager/function.py\u001b[0m in \u001b[0;36m_call_flat\u001b[0;34m(self, args, captured_inputs, cancellation_manager)\u001b[0m\n\u001b[1;32m   1922\u001b[0m       \u001b[0;31m# No tape is watching; skip to running the function.\u001b[0m\u001b[0;34m\u001b[0m\u001b[0;34m\u001b[0m\u001b[0;34m\u001b[0m\u001b[0m\n\u001b[1;32m   1923\u001b[0m       return self._build_call_outputs(self._inference_function.call(\n\u001b[0;32m-> 1924\u001b[0;31m           ctx, args, cancellation_manager=cancellation_manager))\n\u001b[0m\u001b[1;32m   1925\u001b[0m     forward_backward = self._select_forward_and_backward_functions(\n\u001b[1;32m   1926\u001b[0m         \u001b[0margs\u001b[0m\u001b[0;34m,\u001b[0m\u001b[0;34m\u001b[0m\u001b[0;34m\u001b[0m\u001b[0m\n",
            "\u001b[0;32m/usr/local/lib/python3.6/dist-packages/tensorflow/python/eager/function.py\u001b[0m in \u001b[0;36mcall\u001b[0;34m(self, ctx, args, cancellation_manager)\u001b[0m\n\u001b[1;32m    548\u001b[0m               \u001b[0minputs\u001b[0m\u001b[0;34m=\u001b[0m\u001b[0margs\u001b[0m\u001b[0;34m,\u001b[0m\u001b[0;34m\u001b[0m\u001b[0;34m\u001b[0m\u001b[0m\n\u001b[1;32m    549\u001b[0m               \u001b[0mattrs\u001b[0m\u001b[0;34m=\u001b[0m\u001b[0mattrs\u001b[0m\u001b[0;34m,\u001b[0m\u001b[0;34m\u001b[0m\u001b[0;34m\u001b[0m\u001b[0m\n\u001b[0;32m--> 550\u001b[0;31m               ctx=ctx)\n\u001b[0m\u001b[1;32m    551\u001b[0m         \u001b[0;32melse\u001b[0m\u001b[0;34m:\u001b[0m\u001b[0;34m\u001b[0m\u001b[0;34m\u001b[0m\u001b[0m\n\u001b[1;32m    552\u001b[0m           outputs = execute.execute_with_cancellation(\n",
            "\u001b[0;32m/usr/local/lib/python3.6/dist-packages/tensorflow/python/eager/execute.py\u001b[0m in \u001b[0;36mquick_execute\u001b[0;34m(op_name, num_outputs, inputs, attrs, ctx, name)\u001b[0m\n\u001b[1;32m     58\u001b[0m     \u001b[0mctx\u001b[0m\u001b[0;34m.\u001b[0m\u001b[0mensure_initialized\u001b[0m\u001b[0;34m(\u001b[0m\u001b[0;34m)\u001b[0m\u001b[0;34m\u001b[0m\u001b[0;34m\u001b[0m\u001b[0m\n\u001b[1;32m     59\u001b[0m     tensors = pywrap_tfe.TFE_Py_Execute(ctx._handle, device_name, op_name,\n\u001b[0;32m---> 60\u001b[0;31m                                         inputs, attrs, num_outputs)\n\u001b[0m\u001b[1;32m     61\u001b[0m   \u001b[0;32mexcept\u001b[0m \u001b[0mcore\u001b[0m\u001b[0;34m.\u001b[0m\u001b[0m_NotOkStatusException\u001b[0m \u001b[0;32mas\u001b[0m \u001b[0me\u001b[0m\u001b[0;34m:\u001b[0m\u001b[0;34m\u001b[0m\u001b[0;34m\u001b[0m\u001b[0m\n\u001b[1;32m     62\u001b[0m     \u001b[0;32mif\u001b[0m \u001b[0mname\u001b[0m \u001b[0;32mis\u001b[0m \u001b[0;32mnot\u001b[0m \u001b[0;32mNone\u001b[0m\u001b[0;34m:\u001b[0m\u001b[0;34m\u001b[0m\u001b[0;34m\u001b[0m\u001b[0m\n",
            "\u001b[0;31mKeyboardInterrupt\u001b[0m: "
          ]
        }
      ]
    }
  ]
}