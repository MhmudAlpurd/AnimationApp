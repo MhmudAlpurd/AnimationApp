{
  "nbformat": 4,
  "nbformat_minor": 0,
  "metadata": {
    "colab": {
      "name": "hwrs002.ipynb",
      "provenance": [],
      "collapsed_sections": [],
      "authorship_tag": "ABX9TyOBpsSdY8lN88nOUqk+Rzka",
      "include_colab_link": true
    },
    "kernelspec": {
      "display_name": "Python 3",
      "name": "python3"
    }
  },
  "cells": [
    {
      "cell_type": "markdown",
      "metadata": {
        "id": "view-in-github",
        "colab_type": "text"
      },
      "source": [
        "<a href=\"https://colab.research.google.com/github/MhmudAlpurd/AnimationApp/blob/master/hwrs002.ipynb\" target=\"_parent\"><img src=\"https://colab.research.google.com/assets/colab-badge.svg\" alt=\"Open In Colab\"/></a>"
      ]
    },
    {
      "cell_type": "code",
      "metadata": {
        "colab": {
          "base_uri": "https://localhost:8080/"
        },
        "id": "eBjCwuk7Ckhj",
        "outputId": "2159d52b-ec11-47c5-ea85-66a10521b172"
      },
      "source": [
        "from google.colab import drive\n",
        "drive.mount('/content/drive')"
      ],
      "execution_count": 13,
      "outputs": [
        {
          "output_type": "stream",
          "text": [
            "Drive already mounted at /content/drive; to attempt to forcibly remount, call drive.mount(\"/content/drive\", force_remount=True).\n"
          ],
          "name": "stdout"
        }
      ]
    },
    {
      "cell_type": "code",
      "metadata": {
        "colab": {
          "base_uri": "https://localhost:8080/"
        },
        "id": "tZ7KbjcJC2UK",
        "outputId": "ad652729-6f44-4246-95b0-3fac8748ecb9"
      },
      "source": [
        "cd /content/drive/My Drive/"
      ],
      "execution_count": 14,
      "outputs": [
        {
          "output_type": "stream",
          "text": [
            "/content/drive/My Drive\n"
          ],
          "name": "stdout"
        }
      ]
    },
    {
      "cell_type": "code",
      "metadata": {
        "id": "ssKnWPrsCVg4"
      },
      "source": [
        "import os, cv2\n",
        "import matplotlib.pyplot as plt\n",
        "import matplotlib.image as mpimg\n",
        "import numpy as np\n",
        "import random as rnd\n",
        "from tqdm import tqdm\n",
        "import pickle as pkl\n",
        "import PIL"
      ],
      "execution_count": 15,
      "outputs": []
    },
    {
      "cell_type": "markdown",
      "metadata": {
        "id": "S3TD6Yt2FW-K"
      },
      "source": [
        "**#path creation**\n"
      ]
    },
    {
      "cell_type": "code",
      "metadata": {
        "id": "13F67kcgC915"
      },
      "source": [
        "DIRECTORY = 'Hampalai/HWRS_0_0_2/'\n",
        "CATEGORIES = ['plastics', 'metal' , 'paper' , 'glass']\n",
        "IMAGE_SIZE = 150"
      ],
      "execution_count": 25,
      "outputs": []
    },
    {
      "cell_type": "code",
      "metadata": {
        "colab": {
          "base_uri": "https://localhost:8080/"
        },
        "id": "GXv_MCkUD33Z",
        "outputId": "7a88f625-cd7c-46a0-e178-5d1811cf97a9"
      },
      "source": [
        "img_tag_arr = []\n",
        "images = []\n",
        "tags = []\n",
        "\n",
        "for category in tqdm(CATEGORIES):\n",
        "    category_folder = os.path.join(DIRECTORY, category)\n",
        "    img_label = CATEGORIES.index(category)\n",
        "    for img in os.listdir(category_folder):\n",
        "        image_path = os.path.join(category_folder, img)\n",
        "        image = cv2.imread(image_path, cv2.IMREAD_COLOR)\n",
        "        img_loaded = cv2.resize(image, (IMAGE_SIZE,IMAGE_SIZE))\n",
        "        images.append(np.array(img_loaded))\n",
        "        tags.append(img_label)\n",
        "        img_tag_arr.append([np.array(img_loaded), int(img_label)])\n",
        "\n",
        "print()\n",
        "print('image_tags', len(img_tag_arr))\n",
        "print('image_arr', len(images))\n",
        "print('tags_arr', len(tags))"
      ],
      "execution_count": 26,
      "outputs": [
        {
          "output_type": "stream",
          "text": [
            "100%|██████████| 4/4 [00:10<00:00,  2.73s/it]"
          ],
          "name": "stderr"
        },
        {
          "output_type": "stream",
          "text": [
            "\n",
            "image_tags 1987\n",
            "image_arr 1987\n",
            "tags_arr 1987\n"
          ],
          "name": "stdout"
        },
        {
          "output_type": "stream",
          "text": [
            "\n"
          ],
          "name": "stderr"
        }
      ]
    },
    {
      "cell_type": "markdown",
      "metadata": {
        "id": "zaKUdeBuE9xx"
      },
      "source": [
        "**#split image and labels and convert lst to arr**"
      ]
    },
    {
      "cell_type": "code",
      "metadata": {
        "colab": {
          "base_uri": "https://localhost:8080/",
          "height": 1000
        },
        "id": "Xox8OWY9FAxh",
        "outputId": "4a4ad4f0-8dae-42ba-97b4-63a74c7049c9"
      },
      "source": [
        "X = []\n",
        "y = []\n",
        "\n",
        "for img_tensor, labels in img_tag_arr:\n",
        "    X.append(img_tensor) #X = image tensor\n",
        "    y.append(labels) #y = label list\n",
        "\n",
        "X = np.array(X) / 255\n",
        "y = np.array(y)\n",
        "\n",
        "#pkl.dump(X, open('X.pkl', 'wb'))\n",
        "#pkl.dump(y, open('y.pkl', 'wb'))\n",
        "\n",
        "#X = pkl.load(open('X.pkl', 'rb'))\n",
        "#y = pkl.load(open('y.pkl', 'rb'))\n",
        "\n",
        "\n",
        "\n",
        "print(X.shape)\n",
        "print(X[0])\n",
        "print(y[0])\n",
        "\n",
        "#show the image (plastics: 0, metal: 1, paper: 2, glass:3)\n",
        "plt.imshow(X[0])\n",
        "\n",
        "\n",
        "\n"
      ],
      "execution_count": 40,
      "outputs": [
        {
          "output_type": "stream",
          "text": [
            "(1987, 150, 150, 3)\n",
            "[[[0.72156863 0.76862745 0.80784314]\n",
            "  [0.7372549  0.78039216 0.81960784]\n",
            "  [0.73333333 0.78039216 0.81960784]\n",
            "  ...\n",
            "  [0.68235294 0.73333333 0.76470588]\n",
            "  [0.68235294 0.73333333 0.76470588]\n",
            "  [0.68235294 0.73333333 0.76470588]]\n",
            "\n",
            " [[0.7254902  0.77254902 0.81176471]\n",
            "  [0.73333333 0.78039216 0.81960784]\n",
            "  [0.73333333 0.78039216 0.81960784]\n",
            "  ...\n",
            "  [0.68235294 0.73333333 0.76470588]\n",
            "  [0.68235294 0.73333333 0.76470588]\n",
            "  [0.68235294 0.73333333 0.76470588]]\n",
            "\n",
            " [[0.72941176 0.77647059 0.81568627]\n",
            "  [0.72941176 0.77647059 0.81568627]\n",
            "  [0.73333333 0.78039216 0.81960784]\n",
            "  ...\n",
            "  [0.69019608 0.73333333 0.76470588]\n",
            "  [0.69019608 0.73333333 0.76470588]\n",
            "  [0.69019608 0.73333333 0.76470588]]\n",
            "\n",
            " ...\n",
            "\n",
            " [[0.65882353 0.71764706 0.72941176]\n",
            "  [0.67058824 0.72941176 0.74117647]\n",
            "  [0.66666667 0.7254902  0.7372549 ]\n",
            "  ...\n",
            "  [0.61176471 0.6627451  0.69411765]\n",
            "  [0.61176471 0.6627451  0.69411765]\n",
            "  [0.60392157 0.65490196 0.68627451]]\n",
            "\n",
            " [[0.65882353 0.71764706 0.72941176]\n",
            "  [0.66666667 0.7254902  0.7372549 ]\n",
            "  [0.66666667 0.7254902  0.7372549 ]\n",
            "  ...\n",
            "  [0.61176471 0.6627451  0.69411765]\n",
            "  [0.61176471 0.6627451  0.69411765]\n",
            "  [0.60392157 0.65490196 0.68627451]]\n",
            "\n",
            " [[0.65882353 0.71764706 0.72941176]\n",
            "  [0.65882353 0.71764706 0.72941176]\n",
            "  [0.66666667 0.7254902  0.7372549 ]\n",
            "  ...\n",
            "  [0.61176471 0.6627451  0.69411765]\n",
            "  [0.61176471 0.6627451  0.69411765]\n",
            "  [0.60392157 0.65490196 0.68627451]]]\n",
            "0\n"
          ],
          "name": "stdout"
        },
        {
          "output_type": "execute_result",
          "data": {
            "text/plain": [
              "<matplotlib.image.AxesImage at 0x7f8014095a20>"
            ]
          },
          "metadata": {
            "tags": []
          },
          "execution_count": 40
        },
        {
          "output_type": "display_data",
          "data": {
            "image/png": "[encoded data removed]",
            "text/plain": [
              "<Figure size 432x288 with 1 Axes>"
            ]
          },
          "metadata": {
            "tags": [],
            "needs_background": "light"
          }
        }
      ]
    },
    {
      "cell_type": "code",
      "metadata": {
        "colab": {
          "base_uri": "https://localhost:8080/"
        },
        "id": "LVjKreTOm-hF",
        "outputId": "d34773e6-9823-46a1-bf77-3a00119d4df4"
      },
      "source": [
        "from sklearn.model_selection import  train_test_split\n",
        "from tensorflow.keras.utils import to_categorical\n",
        "\n",
        "img_train, img_test, tag_train, tag_test = train_test_split(X, y, test_size = 0.2, random_state = 42)\n",
        "print('img_train:', len(img_train), type(img_train[0]), '| img_test:', len(img_test), '| lbl_train:', len(lbl_train), type(lbl_train[0]) , '| lbl_test:', len(lbl_test))\n",
        "\n",
        "# convert the labels from integers to vectors\n",
        "tag_train = to_categorical(lbl_train, num_classes=4)\n",
        "tag_test = to_categorical(lbl_test, num_classes=4)\n"
      ],
      "execution_count": 10,
      "outputs": [
        {
          "output_type": "stream",
          "text": [
            "img_train: 1589 <class 'numpy.ndarray'> | img_test: 398 | lbl_train: 1589 <class 'numpy.int64'> | lbl_test: 398\n"
          ],
          "name": "stdout"
        }
      ]
    },
    {
      "cell_type": "markdown",
      "metadata": {
        "id": "PHvdFEKOGRVB"
      },
      "source": [
        "**#ImageDataGenerator**"
      ]
    },
    {
      "cell_type": "code",
      "metadata": {
        "id": "FJPmcTF-FE5Z"
      },
      "source": [
        "import tensorflow as tf\n",
        "from tensorflow.keras import layers\n",
        "from tensorflow.keras.models import Sequential\n",
        "from keras.models import Model\n",
        "from keras.layers import Conv2D, MaxPooling2D, Flatten, Dense, Dropout, Input\n",
        "from keras.applications.vgg16 import VGG16, preprocess_input\n",
        "from keras.optimizers import SGD\n",
        "from keras.preprocessing.image import ImageDataGenerator\n",
        "\n",
        "datagen = tf.keras.preprocessing.image.ImageDataGenerator(\n",
        "    featurewise_center=True, samplewise_center=True,\n",
        "    featurewise_std_normalization=True, samplewise_std_normalization=True,\n",
        "    rotation_range=20, width_shift_range=0.2,\n",
        "    height_shift_range=0.2, shear_range=0.1, zoom_range=0.2,\n",
        "    channel_shift_range=0.2, fill_mode='nearest', cval=0.1, horizontal_flip=True,\n",
        "    vertical_flip=True , rescale=True\n",
        "\n",
        ")\n",
        "\n",
        "datagen.fit(img_train)\n"
      ],
      "execution_count": 11,
      "outputs": []
    },
    {
      "cell_type": "markdown",
      "metadata": {
        "id": "H92e8wZ2HXNb"
      },
      "source": [
        "**#model creation**"
      ]
    },
    {
      "cell_type": "code",
      "metadata": {
        "colab": {
          "base_uri": "https://localhost:8080/"
        },
        "id": "vxcd_s8EzwZM",
        "outputId": "cb85d906-6c1f-4217-d5e9-b490c80faf60"
      },
      "source": [
        "import tensorflow as tf\n",
        "from keras.models import Model\n",
        "from keras.layers import Conv2D, MaxPooling2D, Flatten, Dense, Dropout, Input\n",
        "from keras.applications.vgg16 import VGG16, preprocess_input\n",
        "from keras.optimizers import SGD, Adam\n",
        "from keras.losses import categorical_crossentropy\n",
        "\n",
        "\n",
        "\n",
        "\n",
        "num_classes = 4\n",
        "\n",
        "myModel = Sequential([\n",
        "  layers.experimental.preprocessing.Rescaling(1./255, input_shape=(IMAGE_SIZE, IMAGE_SIZE, 3)),\n",
        "  layers.Conv2D(16, 3, padding='same', activation='relu'),\n",
        "  layers.MaxPooling2D(),\n",
        "  layers.Conv2D(32, 3, padding='same', activation='relu'),\n",
        "  layers.MaxPooling2D(),\n",
        "  layers.Conv2D(64, 3, padding='same', activation='relu'),\n",
        "  layers.MaxPooling2D(),\n",
        "  layers.Flatten(),\n",
        "  layers.Dense(128, activation='relu'),\n",
        "  layers.Dense(num_classes)\n",
        "])\n",
        "myModel.summary()\n",
        "\n",
        "myModel.compile(loss = 'binary_crossentropy', optimizer= optimizer_2, metrics=['accuracy'])\n",
        "myModel.fit(x=datagen.flow(img_train, lbl_train, batch_size=32),validation_data=(img_test, lbl_test), steps_per_epoch=100,epochs=100, verbose=2)\n",
        "\n",
        "\n",
        "\n",
        "\n",
        "\n",
        "\n"
      ],
      "execution_count": 12,
      "outputs": [
        {
          "output_type": "stream",
          "text": [
            "Model: \"sequential\"\n",
            "_________________________________________________________________\n",
            "Layer (type)                 Output Shape              Param #   \n",
            "=================================================================\n",
            "rescaling (Rescaling)        (None, 224, 224, 3)       0         \n",
            "_________________________________________________________________\n",
            "conv2d (Conv2D)              (None, 224, 224, 16)      448       \n",
            "_________________________________________________________________\n",
            "max_pooling2d (MaxPooling2D) (None, 112, 112, 16)      0         \n",
            "_________________________________________________________________\n",
            "conv2d_1 (Conv2D)            (None, 112, 112, 32)      4640      \n",
            "_________________________________________________________________\n",
            "max_pooling2d_1 (MaxPooling2 (None, 56, 56, 32)        0         \n",
            "_________________________________________________________________\n",
            "conv2d_2 (Conv2D)            (None, 56, 56, 64)        18496     \n",
            "_________________________________________________________________\n",
            "max_pooling2d_2 (MaxPooling2 (None, 28, 28, 64)        0         \n",
            "_________________________________________________________________\n",
            "flatten (Flatten)            (None, 50176)             0         \n",
            "_________________________________________________________________\n",
            "dense (Dense)                (None, 128)               6422656   \n",
            "_________________________________________________________________\n",
            "dense_1 (Dense)              (None, 4)                 516       \n",
            "=================================================================\n",
            "Total params: 6,446,756\n",
            "Trainable params: 6,446,756\n",
            "Non-trainable params: 0\n",
            "_________________________________________________________________\n",
            "Epoch 1/100\n",
            "WARNING:tensorflow:Your input ran out of data; interrupting training. Make sure that your dataset or generator can generate at least `steps_per_epoch * epochs` batches (in this case, 10000 batches). You may need to use the repeat() function when building your dataset.\n",
            " 50/100 - 89s - loss: 1.3951 - accuracy: 0.2775 - val_loss: 9.2431 - val_accuracy: 0.3065\n"
          ],
          "name": "stdout"
        },
        {
          "output_type": "execute_result",
          "data": {
            "text/plain": [
              "<tensorflow.python.keras.callbacks.History at 0x7f801fce2c88>"
            ]
          },
          "metadata": {
            "tags": []
          },
          "execution_count": 12
        }
      ]
    },
    {
      "cell_type": "code",
      "metadata": {
        "colab": {
          "base_uri": "https://localhost:8080/"
        },
        "id": "5FA1p_bZhP8S",
        "outputId": "f8b81f68-40b9-4d1a-d14f-772e68a0e10d"
      },
      "source": [
        "input_layer = Input(shape=(IMAGE_SIZE, IMAGE_SIZE, 3))\n",
        "conv1 = Conv2D(64, 3, activation = 'relu', padding = 'same')(input_layer)\n",
        "pool1 = MaxPooling2D(pool_size = 2)(conv1)\n",
        "conv2 = Conv2D(32, 3, activation = 'relu', padding = 'same')(pool1)\n",
        "pool2 = MaxPooling2D(pool_size=2)(conv2)\n",
        "flat = Flatten()(pool2)\n",
        "out_layer = Dense(4, activation = 'softmax')(flat)\n",
        "myModel = Model(input_layer, out_layer)\n",
        "myModel.summary()\n",
        "\n",
        "#------------------\n",
        "base_model = VGG16(include_top= True, weights='imagenet', input_shape=(IMAGE_SIZE,IMAGE_SIZE,3))\n",
        "input_layer = Input(base_model)\n",
        "\n",
        "#input_layer = Input(shape=(IMAGE_SIZE, IMAGE_SIZE, 3))\n",
        "conv1 = Conv2D(64, 3, activation = 'relu', padding = 'same')(input_layer)\n",
        "pool1 = MaxPooling2D(pool_size = 2)(conv1)\n",
        "conv2 = Conv2D(32, 3, activation = 'relu', padding = 'same')(pool1)\n",
        "pool2 = MaxPooling2D(pool_size=2)(conv2)\n",
        "flat = Flatten()(pool2)\n",
        "out_layer = Dense(4, activation = 'softmax')(flat)\n",
        "myModel = Model(input_layer, out_layer)\n",
        "myModel.summary()\n",
        "\n",
        "\n",
        "#myModel.compile(optimizer='adam', loss=tf.keras.losses.SparseCategoricalCrossentropy(from_logits=True),metrics=['accuracy'])\n",
        "#myModel.compile(loss=\"binary_crossentropy\", optimizer='Adam', metrics=[\"accuracy\"])\n",
        "\n",
        "\n",
        "myModel.fit(x=datagen.flow(img_train, lbl_train, batch_size=32),validation_data=(img_test, lbl_test), steps_per_epoch=len(img_train) // 32,epochs=3, verbose=1)\n",
        "myModel.summary()"
      ],
      "execution_count": 15,
      "outputs": [
        {
          "output_type": "stream",
          "text": [
            "Model: \"functional_3\"\n",
            "_________________________________________________________________\n",
            "Layer (type)                 Output Shape              Param #   \n",
            "=================================================================\n",
            "input_6 (InputLayer)         [(None, 224, 224, 3)]     0         \n",
            "_________________________________________________________________\n",
            "conv2d_5 (Conv2D)            (None, 224, 224, 64)      1792      \n",
            "_________________________________________________________________\n",
            "max_pooling2d_5 (MaxPooling2 (None, 112, 112, 64)      0         \n",
            "_________________________________________________________________\n",
            "conv2d_6 (Conv2D)            (None, 112, 112, 32)      18464     \n",
            "_________________________________________________________________\n",
            "max_pooling2d_6 (MaxPooling2 (None, 56, 56, 32)        0         \n",
            "_________________________________________________________________\n",
            "flatten_2 (Flatten)          (None, 100352)            0         \n",
            "_________________________________________________________________\n",
            "dense_3 (Dense)              (None, 4)                 401412    \n",
            "=================================================================\n",
            "Total params: 421,668\n",
            "Trainable params: 421,668\n",
            "Non-trainable params: 0\n",
            "_________________________________________________________________\n"
          ],
          "name": "stdout"
        }
      ]
    },
    {
      "cell_type": "code",
      "metadata": {
        "id": "mHYxECODxt8s"
      },
      "source": [
        ""
      ],
      "execution_count": null,
      "outputs": []
    },
    {
      "cell_type": "code",
      "metadata": {
        "id": "lFRPPKZwHnzB"
      },
      "source": [
        "from keras.optimizers import SGD, Adam\n",
        "from keras.losses import categorical_crossentropy\n",
        "optimizer_1 = SGD(lr=1e-4, momentum=0.99)\n",
        "optimizer_2 = Adam(lr=1e-3)\n",
        "model.compile(loss='binary_crossentropy', optimizer=optimizer_1, metrics=['accuracy'])\n"
      ],
      "execution_count": null,
      "outputs": []
    },
    {
      "cell_type": "markdown",
      "metadata": {
        "id": "8wWfExIOsqo-"
      },
      "source": [
        "EPOCHS = 100\n",
        "BS = 32\n",
        "# construct the training image generator for data augmentation\n",
        "aug = ImageDataGenerator(rotation_range=20, zoom_range=0.15,\n",
        "\twidth_shift_range=0.2, height_shift_range=0.2, shear_range=0.15,\n",
        "\thorizontal_flip=True, fill_mode=\"nearest\")\n",
        "# train the network\n",
        "H = model.fit_generator(aug.flow(trainX, trainY, batch_size=BS),\n",
        "\tvalidation_data=(testX, testY), steps_per_epoch=len(trainX) // BS,\n",
        "\tepochs=EPOCHS)\n",
        "  "
      ]
    },
    {
      "cell_type": "code",
      "metadata": {
        "id": "CzQwirc_l0S6"
      },
      "source": [
        "#https://www.pyimagesearch.com/2018/12/24/how-to-use-keras-fit-and-fit_generator-a-hands-on-tutorial/\n",
        "#The Keras deep learning libraries to train model:\n",
        "#1.fit\n",
        "#2.fit_generator\n",
        "#3.train_on_batch\n",
        "\n",
        "EPOCHS = 100\n",
        "BS = 128\n",
        "\n",
        "trained_model = myModel.fit(X, y ,batch_size= BS, epochs= EPOCHS,verbose=2, validation_split= 0.2, validation_data =(img_test, lbl_test) , validation_steps = 100,steps_per_epoch=100, shuffle=True)\n",
        "\n",
        "#history = myModel.fit(\n",
        "   # image_gen.flow(img_train, lbl_train, batch_size=BS, shuffle= True),\n",
        "   # validation_data =(img_test, lbl_test),\n",
        "    #validation_steps = 100,\n",
        "    #steps_per_epoch =  (len(img_train) // BS ),\n",
        "   # epochs = EPOCHS,\n",
        "    #verbose= 1)\n"
      ],
      "execution_count": null,
      "outputs": []
    },
    {
      "cell_type": "markdown",
      "metadata": {
        "id": "8wVwqXU2HfMJ"
      },
      "source": [
        "**#Fitting**"
      ]
    },
    {
      "cell_type": "code",
      "metadata": {
        "id": "DCRe6yH7FTQC"
      },
      "source": [
        "input_layer = Input(shape=(IMAGE_SIZE, IMAGE_SIZE, 3))\n",
        "conv1 = Conv2D(64, 3, activation = 'relu', padding = 'same')(input_layer)\n",
        "pool1 = MaxPooling2D(pool_size = 2)(conv1)\n",
        "conv2 = Conv2D(32, 3, activation = 'relu', padding = 'same')(pool1)\n",
        "pool2 = MaxPooling2D(pool_size=2)(conv2)\n",
        "flat = Flatten()(pool2)\n",
        "out_layer = Dense(4, activation = 'softmax')(flat)\n",
        "myModel = Model(input_layer, out_layer)\n",
        "myModel.summary()"
      ],
      "execution_count": null,
      "outputs": []
    },
    {
      "cell_type": "markdown",
      "metadata": {
        "id": "zD2IPNZeHjlJ"
      },
      "source": [
        "**#Prediction**"
      ]
    }
  ]
}